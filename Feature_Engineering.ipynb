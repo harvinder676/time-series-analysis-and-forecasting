{
 "cells": [
  {
   "cell_type": "markdown",
   "source": [
    "## Feature Engineering\r\n",
    "* Date Time Feature\r\n",
    "* Lag Feature\r\n",
    "* Window Feature"
   ],
   "metadata": {}
  },
  {
   "cell_type": "code",
   "execution_count": 1,
   "source": [
    "import pandas as pd\r\n",
    "import numpy as np\r\n",
    "import matplotlib.pyplot as plt"
   ],
   "outputs": [],
   "metadata": {}
  },
  {
   "cell_type": "code",
   "execution_count": 10,
   "source": [
    "#Load the Dataset { We are using daily minimum tempertaure Dataset} [Remove the last line]\r\n",
    "series=pd.read_csv(\"daily-minimum-temperatures.csv\",squeeze=True,header=0,index_col=0,parse_dates=True)\r\n",
    "series\r\n"
   ],
   "outputs": [
    {
     "output_type": "execute_result",
     "data": {
      "text/plain": [
       "Date\n",
       "1981-01-01    20.7\n",
       "1981-01-02    17.9\n",
       "1981-01-03    18.8\n",
       "1981-01-04    14.6\n",
       "1981-01-05    15.8\n",
       "              ... \n",
       "1990-12-27    14.0\n",
       "1990-12-28    13.6\n",
       "1990-12-29    13.5\n",
       "1990-12-30    15.7\n",
       "1990-12-31    13.0\n",
       "Name: Daily minimum temperatures in Melbourne, Australia, 1981-1990, Length: 3650, dtype: object"
      ]
     },
     "metadata": {},
     "execution_count": 10
    }
   ],
   "metadata": {}
  },
  {
   "cell_type": "code",
   "execution_count": null,
   "source": [],
   "outputs": [],
   "metadata": {}
  }
 ],
 "metadata": {
  "orig_nbformat": 4,
  "language_info": {
   "name": "python",
   "version": "3.7.4",
   "mimetype": "text/x-python",
   "codemirror_mode": {
    "name": "ipython",
    "version": 3
   },
   "pygments_lexer": "ipython3",
   "nbconvert_exporter": "python",
   "file_extension": ".py"
  },
  "kernelspec": {
   "name": "python3",
   "display_name": "Python 3.7.4 64-bit ('test': virtualenv)"
  },
  "interpreter": {
   "hash": "5f9d4743fef9ef0fe926f7065d18a79acbc1b943e93c4fd979e4045620b707f2"
  }
 },
 "nbformat": 4,
 "nbformat_minor": 2
}