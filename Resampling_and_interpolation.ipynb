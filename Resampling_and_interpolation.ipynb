{
 "cells": [
  {
   "cell_type": "markdown",
   "source": [
    "# Resampling and Interpolation\r\n",
    "Resampling involves changing the frequency of your time series observations. Two types of\r\n",
    "resampling are:\r\n",
    "* Upsampling: Where you increase the frequency of the samples, such as from minutes to\r\n",
    "seconds.\r\n",
    "* Downsampling: Where you decrease the frequency of the samples, such as from days to\r\n",
    "months.\r\n",
    "\r\n",
    "In the case of upsampling, care may be needed in\r\n",
    "determining how the \fne-grained observations are calculated using interpolation. In the case of\r\n",
    "downsampling, care may be needed in selecting the summary statistics used to calculate the\r\n",
    "new aggregated values."
   ],
   "metadata": {}
  },
  {
   "cell_type": "markdown",
   "source": [
    "There are perhaps two main reasons why you may be interested in resampling your time\r\n",
    "series data:\r\n",
    "* Problem Framing: Resampling may be required if your data is not available at the\r\n",
    "same frequency that you want to make predictions.\r\n",
    "* Feature Engineering: Resampling can also be used to provide additional structure or\r\n",
    "insight into the learning problem for supervised learning models."
   ],
   "metadata": {}
  },
  {
   "cell_type": "code",
   "execution_count": null,
   "source": [],
   "outputs": [],
   "metadata": {}
  }
 ],
 "metadata": {
  "orig_nbformat": 4,
  "language_info": {
   "name": "python"
  }
 },
 "nbformat": 4,
 "nbformat_minor": 2
}